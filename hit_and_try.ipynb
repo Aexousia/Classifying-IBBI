{
  "nbformat": 4,
  "nbformat_minor": 0,
  "metadata": {
    "colab": {
      "name": "hit and try.ipynb",
      "version": "0.3.2",
      "provenance": [],
      "include_colab_link": true
    },
    "kernelspec": {
      "name": "python3",
      "display_name": "Python 3"
    }
  },
  "cells": [
    {
      "cell_type": "markdown",
      "metadata": {
        "id": "view-in-github",
        "colab_type": "text"
      },
      "source": [
        "<a href=\"https://colab.research.google.com/github/Aexousia/Classifying-IBBI/blob/master/hit_and_try.ipynb\" target=\"_parent\"><img src=\"https://colab.research.google.com/assets/colab-badge.svg\" alt=\"Open In Colab\"/></a>"
      ]
    },
    {
      "cell_type": "code",
      "metadata": {
        "id": "EIikYy3ye-1q",
        "colab_type": "code",
        "colab": {}
      },
      "source": [
        "import numpy as np\n",
        "import queue\n",
        "import copy\n",
        "import matplotlib.pyplot as plt\n",
        "import pylab as plt\n",
        "import ciw\n",
        "import pandas as pd"
      ],
      "execution_count": 0,
      "outputs": []
    },
    {
      "cell_type": "code",
      "metadata": {
        "id": "xJyTSjMhk5iq",
        "colab_type": "code",
        "colab": {}
      },
      "source": [
        "total_time = 100\n",
        "IAT_rate = 1/22\n",
        "ST_rate = 1/44\n",
        "num_total = 2000\n",
        "thresh = 7\n",
        "addh = 0.3\n",
        "P_miss_Add = 0.4\n",
        "P_miss_noAdd = 0.3"
      ],
      "execution_count": 0,
      "outputs": []
    },
    {
      "cell_type": "code",
      "metadata": {
        "id": "MDbDHyd2p2_m",
        "colab_type": "code",
        "colab": {}
      },
      "source": [
        "P_miss = []\n",
        "P_add = []\n",
        "miss_days = []"
      ],
      "execution_count": 0,
      "outputs": []
    },
    {
      "cell_type": "code",
      "metadata": {
        "id": "foiX1AkilcX6",
        "colab_type": "code",
        "colab": {
          "base_uri": "https://localhost:8080/",
          "height": 236
        },
        "outputId": "4dd7136d-7c19-4d49-99bc-fc1db7585912"
      },
      "source": [
        "for k in range(total_time):\n",
        "    \n",
        "    for i in range(num_total):\n",
        "        temp = np.random.binomial(num_total,addh)/1000\n",
        "        if i==0:\n",
        "            P_add.append(temp)\n",
        "        else:\n",
        "            P_add.append(temp)\n",
        "    \n",
        "    for i in range(num_total):\n",
        "        P_miss[i]= P_miss_Add[i]*P_add[i]+ P_miss_noAdd[i]*P_add[i]\n",
        "        if(P_miss[i]> 0.7):\n",
        "            miss_days[i]= miss_days[i]+1\n",
        "        \n",
        "    c=0 \n",
        "    for i in range(num_total):\n",
        "      if(miss_days[i]>7):\n",
        "        c=c+1\n",
        "    if(c>0):\n",
        "      while True:\n",
        "        N = ciw.create_network(\n",
        "          Arrival_distributions=[['Exponential', IAT_rate]],\n",
        "          Service_distributions=[['Exponential', ST_rate]],\n",
        "          Number_of_servers=[1])\n",
        "        Q = ciw.Simulation(N)\n",
        "        Q.simulate_until_max_time(total_time*10*60*60)\n",
        "        recs= Q.get_all_records()\n",
        "        if(len(recs)>= c):\n",
        "          break\n",
        "    \n",
        "    df = pd.DataFrame(recs, columns=['id_number', 'customer_class', 'node','arrival_date', 'waiting_time', 'service_start_date','service_time', 'service_end_date', 'time_blocked','exit_date', 'destination', 'queue_size_at_arrival','queue_size_at_departure'])      \n",
        "    if(c>len(df)):                 \n",
        "      for i in range(num_total):\n",
        "        if(wait_time[i]>7):\n",
        "          for j in range(len(df)):\n",
        "            if(df.id_number[j]==i+1):\n",
        "              d=d+1\n",
        "        if(d==1):\n",
        "          wait_time[i]= wait_time[i]+24*60*60\n",
        "         \n",
        "    for i in range(num_total):\n",
        "      sum1= sum1+wait_time[i]\n",
        "     \n",
        "    sum2=sum([r.waiting_time for r in recs])+sum1\n",
        "    sum1=0\n",
        "    \n",
        "\n",
        "avg= sum2/(total_time*24*60*60)\n",
        "print(avg)"
      ],
      "execution_count": 20,
      "outputs": [
        {
          "output_type": "error",
          "ename": "TypeError",
          "evalue": "ignored",
          "traceback": [
            "\u001b[0;31m---------------------------------------------------------------------------\u001b[0m",
            "\u001b[0;31mTypeError\u001b[0m                                 Traceback (most recent call last)",
            "\u001b[0;32m<ipython-input-20-dd905e233753>\u001b[0m in \u001b[0;36m<module>\u001b[0;34m()\u001b[0m\n\u001b[1;32m      9\u001b[0m \u001b[0;34m\u001b[0m\u001b[0m\n\u001b[1;32m     10\u001b[0m     \u001b[0;32mfor\u001b[0m \u001b[0mi\u001b[0m \u001b[0;32min\u001b[0m \u001b[0mrange\u001b[0m\u001b[0;34m(\u001b[0m\u001b[0mnum_total\u001b[0m\u001b[0;34m)\u001b[0m\u001b[0;34m:\u001b[0m\u001b[0;34m\u001b[0m\u001b[0;34m\u001b[0m\u001b[0m\n\u001b[0;32m---> 11\u001b[0;31m         \u001b[0mP_miss\u001b[0m\u001b[0;34m[\u001b[0m\u001b[0mi\u001b[0m\u001b[0;34m]\u001b[0m\u001b[0;34m=\u001b[0m \u001b[0mP_miss_Add\u001b[0m\u001b[0;34m[\u001b[0m\u001b[0mi\u001b[0m\u001b[0;34m]\u001b[0m\u001b[0;34m*\u001b[0m\u001b[0mP_add\u001b[0m\u001b[0;34m[\u001b[0m\u001b[0mi\u001b[0m\u001b[0;34m]\u001b[0m\u001b[0;34m+\u001b[0m \u001b[0mP_miss_noAdd\u001b[0m\u001b[0;34m[\u001b[0m\u001b[0mi\u001b[0m\u001b[0;34m]\u001b[0m\u001b[0;34m*\u001b[0m\u001b[0mP_add\u001b[0m\u001b[0;34m[\u001b[0m\u001b[0mi\u001b[0m\u001b[0;34m]\u001b[0m\u001b[0;34m\u001b[0m\u001b[0;34m\u001b[0m\u001b[0m\n\u001b[0m\u001b[1;32m     12\u001b[0m         \u001b[0;32mif\u001b[0m\u001b[0;34m(\u001b[0m\u001b[0mP_miss\u001b[0m\u001b[0;34m[\u001b[0m\u001b[0mi\u001b[0m\u001b[0;34m]\u001b[0m\u001b[0;34m>\u001b[0m \u001b[0;36m0.7\u001b[0m\u001b[0;34m)\u001b[0m\u001b[0;34m:\u001b[0m\u001b[0;34m\u001b[0m\u001b[0;34m\u001b[0m\u001b[0m\n\u001b[1;32m     13\u001b[0m             \u001b[0mmiss_days\u001b[0m\u001b[0;34m[\u001b[0m\u001b[0mi\u001b[0m\u001b[0;34m]\u001b[0m\u001b[0;34m=\u001b[0m \u001b[0mmiss_days\u001b[0m\u001b[0;34m[\u001b[0m\u001b[0mi\u001b[0m\u001b[0;34m]\u001b[0m\u001b[0;34m+\u001b[0m\u001b[0;36m1\u001b[0m\u001b[0;34m\u001b[0m\u001b[0;34m\u001b[0m\u001b[0m\n",
            "\u001b[0;31mTypeError\u001b[0m: 'float' object is not subscriptable"
          ]
        }
      ]
    },
    {
      "cell_type": "code",
      "metadata": {
        "id": "uB9Icldx7ppJ",
        "colab_type": "code",
        "colab": {}
      },
      "source": [
        ""
      ],
      "execution_count": 0,
      "outputs": []
    }
  ]
}